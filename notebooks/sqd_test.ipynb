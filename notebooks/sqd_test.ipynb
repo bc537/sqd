{
 "cells": [
  {
   "cell_type": "code",
   "execution_count": 34,
   "metadata": {},
   "outputs": [],
   "source": [
    "import pyscf\n",
    "import pyscf.cc\n",
    "import pyscf.mcscf\n",
    "import ffsim\n",
    "import numpy as np\n",
    "import matplotlib.pyplot as plt\n",
    "from qiskit import QuantumCircuit, QuantumRegister\n",
    "from qiskit_ibm_runtime import QiskitRuntimeService\n",
    "from qiskit_ibm_runtime.fake_provider import FakeSherbrooke\n",
    "from qiskit.transpiler.preset_passmanagers import generate_preset_pass_manager\n",
    "from qiskit_ibm_runtime import SamplerV2 as Sampler\n",
    "from qiskit_addon_sqd.counts import counts_to_arrays\n",
    "from qiskit_addon_sqd.configuration_recovery import recover_configurations\n",
    "from qiskit_addon_sqd.fermion import (flip_orbital_occupancies, solve_fermion)\n",
    "from qiskit_addon_sqd.subsampling import postselect_and_subsample"
   ]
  },
  {
   "cell_type": "code",
   "execution_count": 13,
   "metadata": {},
   "outputs": [
    {
     "name": "stdout",
     "output_type": "stream",
     "text": [
      "converged SCF energy = -1.09480796286051\n",
      "CASCI E = -1.12677835261831  E(CI) = -1.65595556353831  S^2 = 0.0000000\n"
     ]
    }
   ],
   "source": [
    "# Specify molecule properties\n",
    "open_shell = False\n",
    "spin_sq = 0\n",
    "\n",
    "# Build N2 molecule\n",
    "mol = pyscf.gto.Mole()\n",
    "mol.build(\n",
    "    atom=[[\"H\", (0, 0, 0)], [\"H\", (1.0, 0, 0)]],\n",
    "    basis=\"6-31g\",\n",
    "    symmetry=\"Dooh\",\n",
    ")\n",
    "\n",
    "# Define active space\n",
    "n_frozen = 0\n",
    "active_space = range(n_frozen, mol.nao_nr())\n",
    "\n",
    "# Get molecular integrals\n",
    "scf = pyscf.scf.RHF(mol).run()\n",
    "num_orbitals = len(active_space)\n",
    "n_electrons = int(sum(scf.mo_occ[active_space]))\n",
    "num_elec_a = (n_electrons + mol.spin) // 2\n",
    "num_elec_b = (n_electrons - mol.spin) // 2\n",
    "cas = pyscf.mcscf.CASCI(scf, num_orbitals, (num_elec_a, num_elec_b))\n",
    "mo = cas.sort_mo(active_space, base=0)\n",
    "hcore, nuclear_repulsion_energy = cas.get_h1cas(mo)\n",
    "eri = pyscf.ao2mo.restore(1, cas.get_h2cas(mo), num_orbitals)\n",
    "\n",
    "# Compute exact energy\n",
    "exact_energy = cas.run().e_tot"
   ]
  },
  {
   "cell_type": "code",
   "execution_count": 15,
   "metadata": {},
   "outputs": [
    {
     "name": "stdout",
     "output_type": "stream",
     "text": [
      "E(CCSD) = -1.126778370572319  E_corr = -0.03197040771180677\n"
     ]
    }
   ],
   "source": [
    "# Get CCSD t2 amplitudes for initializing the ansatz\n",
    "# ccsd = pyscf.cc.CCSD(\n",
    "#     scf, frozen=[i for i in range(mol.nao_nr()) if i not in active_space]\n",
    "# ).run()\n",
    "ccsd = pyscf.cc.CCSD(scf).run()\n",
    "t1 = ccsd.t1\n",
    "t2 = ccsd.t2"
   ]
  },
  {
   "cell_type": "code",
   "execution_count": 16,
   "metadata": {},
   "outputs": [],
   "source": [
    "n_reps = 1\n",
    "alpha_alpha_indices = [(p, p + 1) for p in range(num_orbitals - 1)]\n",
    "alpha_beta_indices = [(p, p) for p in range(0, num_orbitals, 4)]\n",
    "\n",
    "ucj_op = ffsim.UCJOpSpinBalanced.from_t_amplitudes(\n",
    "    t2=t2,\n",
    "    t1=t1,\n",
    "    n_reps=n_reps,\n",
    "    interaction_pairs=(alpha_alpha_indices, alpha_beta_indices),\n",
    ")\n",
    "\n",
    "nelec = (num_elec_a, num_elec_b)\n",
    "\n",
    "# create an empty quantum circuit\n",
    "qubits = QuantumRegister(2 * num_orbitals, name=\"q\")\n",
    "circuit = QuantumCircuit(qubits)\n",
    "\n",
    "# prepare Hartree-Fock state as the reference state and append it to the quantum circuit\n",
    "circuit.append(ffsim.qiskit.PrepareHartreeFockJW(num_orbitals, nelec), qubits)\n",
    "\n",
    "# apply the UCJ operator to the reference state\n",
    "circuit.append(ffsim.qiskit.UCJOpSpinBalancedJW(ucj_op), qubits)\n",
    "circuit.measure_all()"
   ]
  },
  {
   "cell_type": "code",
   "execution_count": 19,
   "metadata": {},
   "outputs": [],
   "source": [
    "service = QiskitRuntimeService()\n",
    "# backend = service.backend(\"ibm_sherbrooke\")\n",
    "backend = FakeSherbrooke()"
   ]
  },
  {
   "cell_type": "code",
   "execution_count": 20,
   "metadata": {},
   "outputs": [
    {
     "name": "stdout",
     "output_type": "stream",
     "text": [
      "Gate counts (w/o pre-init passes): OrderedDict([('rz', 251), ('sx', 175), ('ecr', 76), ('x', 14), ('measure', 8), ('barrier', 1)])\n",
      "Gate counts (w/ pre-init passes): OrderedDict([('rz', 147), ('sx', 107), ('ecr', 44), ('measure', 8), ('x', 4), ('barrier', 1)])\n"
     ]
    }
   ],
   "source": [
    "# spin_a_layout = [0, 14, 18, 19, 20, 33, 39, 40, 41, 53, 60, 61, 62, 72, 81, 82]\n",
    "# spin_b_layout = [2, 3, 4, 15, 22, 23, 24, 34, 43, 44, 45, 54, 64, 65, 66, 73]\n",
    "spin_a_layout = [0,1,2,3]\n",
    "spin_b_layout = [4,5,6,7]\n",
    "initial_layout = spin_a_layout + spin_b_layout\n",
    "\n",
    "pass_manager = generate_preset_pass_manager(\n",
    "    optimization_level=3, backend=backend, initial_layout=initial_layout\n",
    ")\n",
    "\n",
    "# without PRE_INIT passes\n",
    "isa_circuit = pass_manager.run(circuit)\n",
    "print(f\"Gate counts (w/o pre-init passes): {isa_circuit.count_ops()}\")\n",
    "\n",
    "# with PRE_INIT passes\n",
    "# We will use the circuit generated by this pass manager for hardware execution\n",
    "pass_manager.pre_init = ffsim.qiskit.PRE_INIT\n",
    "isa_circuit = pass_manager.run(circuit)\n",
    "print(f\"Gate counts (w/ pre-init passes): {isa_circuit.count_ops()}\")"
   ]
  },
  {
   "cell_type": "code",
   "execution_count": 30,
   "metadata": {},
   "outputs": [
    {
     "name": "stderr",
     "output_type": "stream",
     "text": [
      "/var/folders/r2/htkf_rds4gv13rqp6zvxsrkh0000gn/T/ipykernel_13416/3987842673.py:1: DeprecationWarning: The 'backend' keyword arguments are deprecated as of qiskit-ibm-runtime 0.24.0 and will be removed no sooner than 3 months after the release date. Please use the 'mode' parameter instead.\n",
      "  sampler = Sampler(backend=backend)\n"
     ]
    }
   ],
   "source": [
    "sampler = Sampler(backend=backend)\n",
    "job = sampler.run([isa_circuit], shots=100_000)\n",
    "primitive_result = job.result()\n",
    "pub_result = primitive_result[0]\n",
    "counts = pub_result.data.meas.get_counts()"
   ]
  },
  {
   "cell_type": "code",
   "execution_count": 33,
   "metadata": {},
   "outputs": [
    {
     "name": "stdout",
     "output_type": "stream",
     "text": [
      "Starting configuration recovery iteration 0\n",
      "Starting configuration recovery iteration 1\n",
      "Starting configuration recovery iteration 2\n",
      "Starting configuration recovery iteration 3\n",
      "Starting configuration recovery iteration 4\n"
     ]
    }
   ],
   "source": [
    "bitstring_matrix_full, probs_arr_full = counts_to_arrays(counts)\n",
    "rng = np.random.default_rng(12345)\n",
    "\n",
    "# SQD options\n",
    "iterations = 5\n",
    "\n",
    "# Eigenstate solver options\n",
    "n_batches = 3\n",
    "samples_per_batch = 1000\n",
    "max_davidson_cycles = 200\n",
    "\n",
    "# Self-consistent configuration recovery loop\n",
    "e_hist = np.zeros((iterations, n_batches))  # energy history\n",
    "s_hist = np.zeros((iterations, n_batches))  # spin history\n",
    "occupancy_hist = np.zeros((iterations, 2 * num_orbitals))\n",
    "occupancies_bitwise = None  # orbital i corresponds to column i in bitstring matrix\n",
    "for i in range(iterations):\n",
    "    print(f\"Starting configuration recovery iteration {i}\")\n",
    "    # On the first iteration, we have no orbital occupancy information from the\n",
    "    # solver, so we just post-select from the full bitstring set based on hamming weight.\n",
    "    if occupancies_bitwise is None:\n",
    "        bs_mat_tmp = bitstring_matrix_full\n",
    "        probs_arr_tmp = probs_arr_full\n",
    "\n",
    "    # If we have average orbital occupancy information, we use it to refine the full set of noisy configurations\n",
    "    else:\n",
    "        bs_mat_tmp, probs_arr_tmp = recover_configurations(\n",
    "            bitstring_matrix_full,\n",
    "            probs_arr_full,\n",
    "            occupancies_bitwise,\n",
    "            num_elec_a,\n",
    "            num_elec_b,\n",
    "            rand_seed=rng,\n",
    "        )\n",
    "\n",
    "    # Throw out configurations with incorrect particle number in either the spin-up or spin-down systems\n",
    "    batches = postselect_and_subsample(\n",
    "        bs_mat_tmp,\n",
    "        probs_arr_tmp,\n",
    "        hamming_right=num_elec_a,\n",
    "        hamming_left=num_elec_b,\n",
    "        samples_per_batch=samples_per_batch,\n",
    "        num_batches=n_batches,\n",
    "        rand_seed=rng,\n",
    "    )\n",
    "\n",
    "    # Run eigenstate solvers in a loop. This loop should be parallelized for larger problems.\n",
    "    e_tmp = np.zeros(n_batches)\n",
    "    s_tmp = np.zeros(n_batches)\n",
    "    occs_tmp = np.zeros((n_batches, 2 * num_orbitals))\n",
    "    coeffs = []\n",
    "    for j in range(n_batches):\n",
    "        energy_sci, coeffs_sci, avg_occs, spin = solve_fermion(\n",
    "            batches[j],\n",
    "            hcore,\n",
    "            eri,\n",
    "            open_shell=open_shell,\n",
    "            spin_sq=spin_sq,\n",
    "            max_davidson=max_davidson_cycles,\n",
    "        )\n",
    "        energy_sci += nuclear_repulsion_energy\n",
    "        e_tmp[j] = energy_sci\n",
    "        s_tmp[j] = spin\n",
    "        occs_tmp[j, :num_orbitals] = avg_occs[0]\n",
    "        occs_tmp[j, num_orbitals:] = avg_occs[1]\n",
    "        coeffs.append(coeffs_sci)\n",
    "\n",
    "    # Combine batch results\n",
    "    avg_occupancy = np.mean(occs_tmp, axis=0)\n",
    "    # The occupancies from the solver should be flipped to match the bits in the bitstring matrix.\n",
    "    occupancies_bitwise = flip_orbital_occupancies(avg_occupancy)\n",
    "\n",
    "    # Track optimization history\n",
    "    e_hist[i, :] = e_tmp\n",
    "    s_hist[i, :] = s_tmp\n",
    "    occupancy_hist[i, :] = avg_occupancy"
   ]
  },
  {
   "cell_type": "code",
   "execution_count": 35,
   "metadata": {},
   "outputs": [
    {
     "data": {
      "image/png": "[encoded data removed]",
      "text/plain": [
       "<Figure size 1200x600 with 2 Axes>"
      ]
     },
     "metadata": {},
     "output_type": "display_data"
    }
   ],
   "source": [
    "# Data for energies plot\n",
    "x1 = range(iterations)\n",
    "e_diff = [abs(np.min(energies) - exact_energy) for energies in e_hist]\n",
    "yt1 = [1.0, 1e-1, 1e-2, 1e-3, 1e-4]\n",
    "\n",
    "# Chemical accuracy (+/- 1 milli-Hartree)\n",
    "chem_accuracy = 0.001\n",
    "\n",
    "# Data for avg spatial orbital occupancy\n",
    "y2 = avg_occupancy[:num_orbitals] + avg_occupancy[num_orbitals:]\n",
    "x2 = range(len(y2))\n",
    "\n",
    "fig, axs = plt.subplots(1, 2, figsize=(12, 6))\n",
    "\n",
    "# Plot energies\n",
    "axs[0].plot(x1, e_diff, label=\"energy error\", marker=\"o\")\n",
    "axs[0].set_xticks(x1)\n",
    "axs[0].set_xticklabels(x1)\n",
    "axs[0].set_yticks(yt1)\n",
    "axs[0].set_yticklabels(yt1)\n",
    "axs[0].set_yscale(\"log\")\n",
    "axs[0].set_ylim(1e-4)\n",
    "axs[0].axhline(y=chem_accuracy, color=\"#BF5700\", linestyle=\"--\", label=\"chemical accuracy\")\n",
    "axs[0].set_title(\"Approximated Ground State Energy Error vs SQD Iterations\")\n",
    "axs[0].set_xlabel(\"Iteration Index\", fontdict={\"fontsize\": 12})\n",
    "axs[0].set_ylabel(\"Energy Error (Ha)\", fontdict={\"fontsize\": 12})\n",
    "axs[0].legend()\n",
    "\n",
    "# Plot orbital occupancy\n",
    "axs[1].bar(x2, y2, width=0.8)\n",
    "axs[1].set_xticks(x2)\n",
    "axs[1].set_xticklabels(x2)\n",
    "axs[1].set_title(\"Avg Occupancy per Spatial Orbital\")\n",
    "axs[1].set_xlabel(\"Orbital Index\", fontdict={\"fontsize\": 12})\n",
    "axs[1].set_ylabel(\"Avg Occupancy\", fontdict={\"fontsize\": 12})\n",
    "\n",
    "plt.tight_layout()\n",
    "plt.show()"
   ]
  }
 ],
 "metadata": {
  "kernelspec": {
   "display_name": "qc1",
   "language": "python",
   "name": "python3"
  },
  "language_info": {
   "codemirror_mode": {
    "name": "ipython",
    "version": 3
   },
   "file_extension": ".py",
   "mimetype": "text/x-python",
   "name": "python",
   "nbconvert_exporter": "python",
   "pygments_lexer": "ipython3",
   "version": "3.11.10"
  }
 },
 "nbformat": 4,
 "nbformat_minor": 2
}
